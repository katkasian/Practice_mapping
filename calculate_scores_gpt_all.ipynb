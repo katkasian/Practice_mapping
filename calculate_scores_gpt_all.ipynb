{
 "cells": [
  {
   "cell_type": "code",
   "execution_count": 1,
   "outputs": [],
   "source": [
    "import warnings\n",
    "warnings.simplefilter(\"ignore\", UserWarning)\n",
    "import pandas as pd\n",
    "import os"
   ],
   "metadata": {
    "collapsed": false,
    "pycharm": {
     "name": "#%%\n"
    }
   }
  },
  {
   "cell_type": "code",
   "execution_count": 2,
   "outputs": [],
   "source": [
    "parent_directory = 'mar_2024_results'"
   ],
   "metadata": {
    "collapsed": false,
    "pycharm": {
     "name": "#%%\n"
    }
   }
  },
  {
   "cell_type": "code",
   "execution_count": 105,
   "outputs": [],
   "source": [
    "result_directory = 'mar_2024_results\\\\gpt_results\\\\ESC'"
   ],
   "metadata": {
    "collapsed": false,
    "pycharm": {
     "name": "#%%\n"
    }
   }
  },
  {
   "cell_type": "code",
   "execution_count": 184,
   "outputs": [],
   "source": [
    "setting_of_interest = 'all_GPT4_ESC_MPE_k2'"
   ],
   "metadata": {
    "collapsed": false,
    "pycharm": {
     "name": "#%%\n"
    }
   }
  },
  {
   "cell_type": "code",
   "execution_count": 185,
   "outputs": [],
   "source": [
    "dfs = []"
   ],
   "metadata": {
    "collapsed": false,
    "pycharm": {
     "name": "#%%\n"
    }
   }
  },
  {
   "cell_type": "code",
   "execution_count": 186,
   "outputs": [],
   "source": [
    "for i in os.listdir(parent_directory):\n",
    "\tif i not in ['v1', 'v2_2', 'v3_1_3', 'v3_1_4']:\n",
    "\t\tchild_dir = f'{parent_directory}//{i}'\n",
    "\t\tfor item in os.listdir(child_dir):\n",
    "\t\t\tif item.startswith(setting_of_interest):\n",
    "\t\t\t\tdf = pd.read_csv(f'{child_dir}//{item}', index_col=0)\n",
    "\t\t\t\tdf.reset_index(inplace=True)\n",
    "\t\t\t\tdf.columns = ['category', 'precision', 'recall', 'f1-score', 'support']\n",
    "\t\t\t\tdfs.append(df)"
   ],
   "metadata": {
    "collapsed": false,
    "pycharm": {
     "name": "#%%\n"
    }
   }
  },
  {
   "cell_type": "code",
   "execution_count": 187,
   "outputs": [
    {
     "data": {
      "text/plain": "                           precision    recall  f1-score    support\nAdvocacy                    0.548148  0.666667  0.590476   5.000000\nArguing                     0.750000  0.400000  0.507937   5.000000\nAudiencing                  0.257407  0.533333  0.346218   5.000000\nBetting                     0.944444  1.000000  0.969697   5.000000\nCharity                     0.944444  0.933333  0.932660   5.000000\nCommunity imagining         0.222222  0.133333  0.166667   5.000000\nDenouncing                  0.733333  0.533333  0.590476   5.000000\nExpressing emotions         0.785185  0.733333  0.695238   5.000000\nExpressing solidarity       0.458333  0.533333  0.454212   5.000000\nKnowledge performance       0.277778  0.133333  0.178571   5.000000\nNews and content curation   0.723810  0.800000  0.755556   5.000000\nNot applicable              0.423810  0.600000  0.494017   5.000000\nSelf-promotion              0.761905  0.666667  0.611111   5.000000\naccuracy                    0.589744  0.589744  0.589744   0.589744\nmacro avg                   0.602371  0.589744  0.560987  65.000000\nweighted avg                0.602371  0.589744  0.560987  65.000000",
      "text/html": "<div>\n<style scoped>\n    .dataframe tbody tr th:only-of-type {\n        vertical-align: middle;\n    }\n\n    .dataframe tbody tr th {\n        vertical-align: top;\n    }\n\n    .dataframe thead th {\n        text-align: right;\n    }\n</style>\n<table border=\"1\" class=\"dataframe\">\n  <thead>\n    <tr style=\"text-align: right;\">\n      <th></th>\n      <th>precision</th>\n      <th>recall</th>\n      <th>f1-score</th>\n      <th>support</th>\n    </tr>\n  </thead>\n  <tbody>\n    <tr>\n      <th>Advocacy</th>\n      <td>0.548148</td>\n      <td>0.666667</td>\n      <td>0.590476</td>\n      <td>5.000000</td>\n    </tr>\n    <tr>\n      <th>Arguing</th>\n      <td>0.750000</td>\n      <td>0.400000</td>\n      <td>0.507937</td>\n      <td>5.000000</td>\n    </tr>\n    <tr>\n      <th>Audiencing</th>\n      <td>0.257407</td>\n      <td>0.533333</td>\n      <td>0.346218</td>\n      <td>5.000000</td>\n    </tr>\n    <tr>\n      <th>Betting</th>\n      <td>0.944444</td>\n      <td>1.000000</td>\n      <td>0.969697</td>\n      <td>5.000000</td>\n    </tr>\n    <tr>\n      <th>Charity</th>\n      <td>0.944444</td>\n      <td>0.933333</td>\n      <td>0.932660</td>\n      <td>5.000000</td>\n    </tr>\n    <tr>\n      <th>Community imagining</th>\n      <td>0.222222</td>\n      <td>0.133333</td>\n      <td>0.166667</td>\n      <td>5.000000</td>\n    </tr>\n    <tr>\n      <th>Denouncing</th>\n      <td>0.733333</td>\n      <td>0.533333</td>\n      <td>0.590476</td>\n      <td>5.000000</td>\n    </tr>\n    <tr>\n      <th>Expressing emotions</th>\n      <td>0.785185</td>\n      <td>0.733333</td>\n      <td>0.695238</td>\n      <td>5.000000</td>\n    </tr>\n    <tr>\n      <th>Expressing solidarity</th>\n      <td>0.458333</td>\n      <td>0.533333</td>\n      <td>0.454212</td>\n      <td>5.000000</td>\n    </tr>\n    <tr>\n      <th>Knowledge performance</th>\n      <td>0.277778</td>\n      <td>0.133333</td>\n      <td>0.178571</td>\n      <td>5.000000</td>\n    </tr>\n    <tr>\n      <th>News and content curation</th>\n      <td>0.723810</td>\n      <td>0.800000</td>\n      <td>0.755556</td>\n      <td>5.000000</td>\n    </tr>\n    <tr>\n      <th>Not applicable</th>\n      <td>0.423810</td>\n      <td>0.600000</td>\n      <td>0.494017</td>\n      <td>5.000000</td>\n    </tr>\n    <tr>\n      <th>Self-promotion</th>\n      <td>0.761905</td>\n      <td>0.666667</td>\n      <td>0.611111</td>\n      <td>5.000000</td>\n    </tr>\n    <tr>\n      <th>accuracy</th>\n      <td>0.589744</td>\n      <td>0.589744</td>\n      <td>0.589744</td>\n      <td>0.589744</td>\n    </tr>\n    <tr>\n      <th>macro avg</th>\n      <td>0.602371</td>\n      <td>0.589744</td>\n      <td>0.560987</td>\n      <td>65.000000</td>\n    </tr>\n    <tr>\n      <th>weighted avg</th>\n      <td>0.602371</td>\n      <td>0.589744</td>\n      <td>0.560987</td>\n      <td>65.000000</td>\n    </tr>\n  </tbody>\n</table>\n</div>"
     },
     "execution_count": 187,
     "metadata": {},
     "output_type": "execute_result"
    }
   ],
   "source": [
    "cats = dfs[0].category.to_list()\n",
    "per_category_results = {}\n",
    "for cat in cats:\n",
    "    res = []\n",
    "    for df in dfs:\n",
    "        res.append(df.loc[df.category == cat])\n",
    "    res_df = pd.concat(res, axis=0)\n",
    "    res_df.drop(columns='category', inplace=True)\n",
    "    means = res_df.mean().to_dict()\n",
    "    per_category_results[cat] = means\n",
    "mean_per_run = pd.DataFrame(per_category_results).T\n",
    "mean_per_run"
   ],
   "metadata": {
    "collapsed": false,
    "pycharm": {
     "name": "#%%\n"
    }
   }
  },
  {
   "cell_type": "code",
   "execution_count": 188,
   "outputs": [],
   "source": [
    "mean_per_run.to_csv(f'{result_directory}\\\\{setting_of_interest}_mean.csv')"
   ],
   "metadata": {
    "collapsed": false,
    "pycharm": {
     "name": "#%%\n"
    }
   }
  },
  {
   "cell_type": "code",
   "execution_count": 189,
   "outputs": [
    {
     "data": {
      "text/plain": "                           precision  recall  f1-score  support\nAdvocacy                         NaN     NaN       NaN      NaN\nArguing                          NaN     NaN       NaN      NaN\nAudiencing                       NaN     NaN       NaN      NaN\nBetting                          NaN     NaN       NaN      NaN\nCharity                          NaN     NaN       NaN      NaN\nCommunity imagining              NaN     NaN       NaN      NaN\nDenouncing                       NaN     NaN       NaN      NaN\nExpressing emotions              NaN     NaN       NaN      NaN\nExpressing solidarity            NaN     NaN       NaN      NaN\nKnowledge performance            NaN     NaN       NaN      NaN\nNews and content curation        NaN     NaN       NaN      NaN\nNot applicable                   NaN     NaN       NaN      NaN\nSelf-promotion                   NaN     NaN       NaN      NaN\naccuracy                         NaN     NaN       NaN      NaN\nmacro avg                        NaN     NaN       NaN      NaN\nweighted avg                     NaN     NaN       NaN      NaN",
      "text/html": "<div>\n<style scoped>\n    .dataframe tbody tr th:only-of-type {\n        vertical-align: middle;\n    }\n\n    .dataframe tbody tr th {\n        vertical-align: top;\n    }\n\n    .dataframe thead th {\n        text-align: right;\n    }\n</style>\n<table border=\"1\" class=\"dataframe\">\n  <thead>\n    <tr style=\"text-align: right;\">\n      <th></th>\n      <th>precision</th>\n      <th>recall</th>\n      <th>f1-score</th>\n      <th>support</th>\n    </tr>\n  </thead>\n  <tbody>\n    <tr>\n      <th>Advocacy</th>\n      <td>NaN</td>\n      <td>NaN</td>\n      <td>NaN</td>\n      <td>NaN</td>\n    </tr>\n    <tr>\n      <th>Arguing</th>\n      <td>NaN</td>\n      <td>NaN</td>\n      <td>NaN</td>\n      <td>NaN</td>\n    </tr>\n    <tr>\n      <th>Audiencing</th>\n      <td>NaN</td>\n      <td>NaN</td>\n      <td>NaN</td>\n      <td>NaN</td>\n    </tr>\n    <tr>\n      <th>Betting</th>\n      <td>NaN</td>\n      <td>NaN</td>\n      <td>NaN</td>\n      <td>NaN</td>\n    </tr>\n    <tr>\n      <th>Charity</th>\n      <td>NaN</td>\n      <td>NaN</td>\n      <td>NaN</td>\n      <td>NaN</td>\n    </tr>\n    <tr>\n      <th>Community imagining</th>\n      <td>NaN</td>\n      <td>NaN</td>\n      <td>NaN</td>\n      <td>NaN</td>\n    </tr>\n    <tr>\n      <th>Denouncing</th>\n      <td>NaN</td>\n      <td>NaN</td>\n      <td>NaN</td>\n      <td>NaN</td>\n    </tr>\n    <tr>\n      <th>Expressing emotions</th>\n      <td>NaN</td>\n      <td>NaN</td>\n      <td>NaN</td>\n      <td>NaN</td>\n    </tr>\n    <tr>\n      <th>Expressing solidarity</th>\n      <td>NaN</td>\n      <td>NaN</td>\n      <td>NaN</td>\n      <td>NaN</td>\n    </tr>\n    <tr>\n      <th>Knowledge performance</th>\n      <td>NaN</td>\n      <td>NaN</td>\n      <td>NaN</td>\n      <td>NaN</td>\n    </tr>\n    <tr>\n      <th>News and content curation</th>\n      <td>NaN</td>\n      <td>NaN</td>\n      <td>NaN</td>\n      <td>NaN</td>\n    </tr>\n    <tr>\n      <th>Not applicable</th>\n      <td>NaN</td>\n      <td>NaN</td>\n      <td>NaN</td>\n      <td>NaN</td>\n    </tr>\n    <tr>\n      <th>Self-promotion</th>\n      <td>NaN</td>\n      <td>NaN</td>\n      <td>NaN</td>\n      <td>NaN</td>\n    </tr>\n    <tr>\n      <th>accuracy</th>\n      <td>NaN</td>\n      <td>NaN</td>\n      <td>NaN</td>\n      <td>NaN</td>\n    </tr>\n    <tr>\n      <th>macro avg</th>\n      <td>NaN</td>\n      <td>NaN</td>\n      <td>NaN</td>\n      <td>NaN</td>\n    </tr>\n    <tr>\n      <th>weighted avg</th>\n      <td>NaN</td>\n      <td>NaN</td>\n      <td>NaN</td>\n      <td>NaN</td>\n    </tr>\n  </tbody>\n</table>\n</div>"
     },
     "execution_count": 189,
     "metadata": {},
     "output_type": "execute_result"
    }
   ],
   "source": [
    "per_category_results = {}\n",
    "for cat in cats:\n",
    "    res = []\n",
    "    for df in dfs:\n",
    "        res.append(df.loc[df.category == cat])\n",
    "    res_df = pd.concat(res, axis=0)\n",
    "    res_df.drop(columns='category', inplace=True)\n",
    "    stds = res_df.std().to_dict()\n",
    "    per_category_results[cat] = stds\n",
    "std_per_run = pd.DataFrame(per_category_results).T\n",
    "std_per_run"
   ],
   "metadata": {
    "collapsed": false,
    "pycharm": {
     "name": "#%%\n"
    }
   }
  },
  {
   "cell_type": "code",
   "execution_count": 190,
   "outputs": [],
   "source": [
    "std_per_run.to_csv(f'{result_directory}\\\\{setting_of_interest}_std.csv')"
   ],
   "metadata": {
    "collapsed": false,
    "pycharm": {
     "name": "#%%\n"
    }
   }
  }
 ],
 "metadata": {
  "kernelspec": {
   "display_name": "Python 3",
   "language": "python",
   "name": "python3"
  },
  "language_info": {
   "codemirror_mode": {
    "name": "ipython",
    "version": 2
   },
   "file_extension": ".py",
   "mimetype": "text/x-python",
   "name": "python",
   "nbconvert_exporter": "python",
   "pygments_lexer": "ipython2",
   "version": "2.7.6"
  }
 },
 "nbformat": 4,
 "nbformat_minor": 0
}