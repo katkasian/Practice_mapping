{
 "cells": [
  {
   "cell_type": "code",
   "execution_count": 107,
   "outputs": [],
   "source": [
    "import warnings\n",
    "warnings.simplefilter(\"ignore\", UserWarning)\n",
    "import pandas as pd\n",
    "import os"
   ],
   "metadata": {
    "collapsed": false,
    "pycharm": {
     "name": "#%%\n"
    }
   }
  },
  {
   "cell_type": "code",
   "execution_count": 173,
   "outputs": [],
   "source": [
    "result_directory = 'mar_2024_results\\\\v4_1\\\\'"
   ],
   "metadata": {
    "collapsed": false,
    "pycharm": {
     "name": "#%%\n"
    }
   }
  },
  {
   "cell_type": "code",
   "execution_count": 195,
   "outputs": [
    {
     "name": "stdout",
     "output_type": "stream",
     "text": [
      "GPT4_ESC_k2_MPE_1.csv\n",
      "GPT4_ESC_k2_MPE_2.csv\n",
      "GPT4_ESC_k2_MPE_3.csv\n"
     ]
    }
   ],
   "source": [
    "run_of_interest = 'GPT4_ESC_k2_MPE'\n",
    "dfs = []\n",
    "for file in os.listdir(result_directory):\n",
    "\tif file.startswith(run_of_interest): #calculation is incorrect as it picks up everything\n",
    "\t\tprint(file)\n",
    "\t\tdf = pd.read_csv(f'{result_directory}\\\\{file}', index_col=0)\n",
    "\t\tdf.reset_index(inplace=True)\n",
    "\t\tdf.columns = ['category', 'precision', 'recall', 'f1-score', 'support']\n",
    "\t\tdfs.append(df)"
   ],
   "metadata": {
    "collapsed": false,
    "pycharm": {
     "name": "#%%\n"
    }
   }
  },
  {
   "cell_type": "code",
   "execution_count": 196,
   "outputs": [],
   "source": [
    "cats = dfs[0].category.to_list()"
   ],
   "metadata": {
    "collapsed": false,
    "pycharm": {
     "name": "#%%\n"
    }
   }
  },
  {
   "cell_type": "code",
   "execution_count": 197,
   "outputs": [],
   "source": [
    "per_category_results = {}\n",
    "for cat in cats:\n",
    "\tres = []\n",
    "\tfor df in dfs:\n",
    "\t\tres.append(df.loc[df.category == cat])\n",
    "\tres_df = pd.concat(res, axis=0)\n",
    "\tres_df.drop(columns='category', inplace=True)\n",
    "\tmeans = res_df.mean().to_dict()\n",
    "\tper_category_results[cat] = means"
   ],
   "metadata": {
    "collapsed": false,
    "pycharm": {
     "name": "#%%\n"
    }
   }
  },
  {
   "cell_type": "code",
   "execution_count": 198,
   "outputs": [
    {
     "data": {
      "text/plain": "                           precision    recall  f1-score    support\nAdvocacy                    0.571212  0.833333  0.650000   4.000000\nArguing                     0.333333  0.133333  0.190476   5.000000\nAudiencing                  0.206349  0.466667  0.283208   5.000000\nBetting                     0.763889  1.000000  0.862471   5.000000\nCharity                     0.833333  0.600000  0.694444   5.000000\nCommunity imagining         0.133333  0.133333  0.133333   5.000000\nDenouncing                  0.588889  0.533333  0.548485   5.000000\nExpressing emotions         0.833333  0.800000  0.795455   5.000000\nExpressing solidarity       0.375000  0.466667  0.404558   5.000000\nKnowledge performance       0.750000  0.333333  0.428571   5.000000\nNews and content curation   0.933333  0.666667  0.766667   5.000000\nNot applicable              0.309524  0.600000  0.397661   5.000000\nSelf-promotion              1.000000  0.600000  0.736772   5.000000\naccuracy                    0.546875  0.546875  0.546875   0.546875\nmacro avg                   0.587041  0.551282  0.530162  64.000000\nweighted avg                0.587288  0.546875  0.528289  64.000000",
      "text/html": "<div>\n<style scoped>\n    .dataframe tbody tr th:only-of-type {\n        vertical-align: middle;\n    }\n\n    .dataframe tbody tr th {\n        vertical-align: top;\n    }\n\n    .dataframe thead th {\n        text-align: right;\n    }\n</style>\n<table border=\"1\" class=\"dataframe\">\n  <thead>\n    <tr style=\"text-align: right;\">\n      <th></th>\n      <th>precision</th>\n      <th>recall</th>\n      <th>f1-score</th>\n      <th>support</th>\n    </tr>\n  </thead>\n  <tbody>\n    <tr>\n      <th>Advocacy</th>\n      <td>0.571212</td>\n      <td>0.833333</td>\n      <td>0.650000</td>\n      <td>4.000000</td>\n    </tr>\n    <tr>\n      <th>Arguing</th>\n      <td>0.333333</td>\n      <td>0.133333</td>\n      <td>0.190476</td>\n      <td>5.000000</td>\n    </tr>\n    <tr>\n      <th>Audiencing</th>\n      <td>0.206349</td>\n      <td>0.466667</td>\n      <td>0.283208</td>\n      <td>5.000000</td>\n    </tr>\n    <tr>\n      <th>Betting</th>\n      <td>0.763889</td>\n      <td>1.000000</td>\n      <td>0.862471</td>\n      <td>5.000000</td>\n    </tr>\n    <tr>\n      <th>Charity</th>\n      <td>0.833333</td>\n      <td>0.600000</td>\n      <td>0.694444</td>\n      <td>5.000000</td>\n    </tr>\n    <tr>\n      <th>Community imagining</th>\n      <td>0.133333</td>\n      <td>0.133333</td>\n      <td>0.133333</td>\n      <td>5.000000</td>\n    </tr>\n    <tr>\n      <th>Denouncing</th>\n      <td>0.588889</td>\n      <td>0.533333</td>\n      <td>0.548485</td>\n      <td>5.000000</td>\n    </tr>\n    <tr>\n      <th>Expressing emotions</th>\n      <td>0.833333</td>\n      <td>0.800000</td>\n      <td>0.795455</td>\n      <td>5.000000</td>\n    </tr>\n    <tr>\n      <th>Expressing solidarity</th>\n      <td>0.375000</td>\n      <td>0.466667</td>\n      <td>0.404558</td>\n      <td>5.000000</td>\n    </tr>\n    <tr>\n      <th>Knowledge performance</th>\n      <td>0.750000</td>\n      <td>0.333333</td>\n      <td>0.428571</td>\n      <td>5.000000</td>\n    </tr>\n    <tr>\n      <th>News and content curation</th>\n      <td>0.933333</td>\n      <td>0.666667</td>\n      <td>0.766667</td>\n      <td>5.000000</td>\n    </tr>\n    <tr>\n      <th>Not applicable</th>\n      <td>0.309524</td>\n      <td>0.600000</td>\n      <td>0.397661</td>\n      <td>5.000000</td>\n    </tr>\n    <tr>\n      <th>Self-promotion</th>\n      <td>1.000000</td>\n      <td>0.600000</td>\n      <td>0.736772</td>\n      <td>5.000000</td>\n    </tr>\n    <tr>\n      <th>accuracy</th>\n      <td>0.546875</td>\n      <td>0.546875</td>\n      <td>0.546875</td>\n      <td>0.546875</td>\n    </tr>\n    <tr>\n      <th>macro avg</th>\n      <td>0.587041</td>\n      <td>0.551282</td>\n      <td>0.530162</td>\n      <td>64.000000</td>\n    </tr>\n    <tr>\n      <th>weighted avg</th>\n      <td>0.587288</td>\n      <td>0.546875</td>\n      <td>0.528289</td>\n      <td>64.000000</td>\n    </tr>\n  </tbody>\n</table>\n</div>"
     },
     "execution_count": 198,
     "metadata": {},
     "output_type": "execute_result"
    }
   ],
   "source": [
    "mean_per_run = pd.DataFrame(per_category_results).T\n",
    "mean_per_run"
   ],
   "metadata": {
    "collapsed": false,
    "pycharm": {
     "name": "#%%\n"
    }
   }
  },
  {
   "cell_type": "code",
   "execution_count": 199,
   "outputs": [],
   "source": [
    "mean_per_run.to_csv(f'{result_directory}\\\\{run_of_interest}_mean.csv')"
   ],
   "metadata": {
    "collapsed": false,
    "pycharm": {
     "name": "#%%\n"
    }
   }
  },
  {
   "cell_type": "code",
   "execution_count": 200,
   "outputs": [
    {
     "data": {
      "text/plain": "                           precision    recall  f1-score   support\nAdvocacy                    0.194784  0.144338  0.109291  0.000000\nArguing                     0.288675  0.115470  0.164957  0.000000\nAudiencing                  0.180283  0.416333  0.245294  0.000000\nBetting                     0.120281  0.000000  0.080748  0.000000\nCharity                     0.144338  0.000000  0.048113  0.000000\nCommunity imagining         0.230940  0.230940  0.230940  0.000000\nDenouncing                  0.083887  0.115470  0.050069  0.000000\nExpressing emotions         0.166667  0.200000  0.099066  0.000000\nExpressing solidarity       0.125000  0.115470  0.084323  0.000000\nKnowledge performance       0.250000  0.230940  0.207567  0.000000\nNews and content curation   0.115470  0.115470  0.028868  0.000000\nNot applicable              0.288675  0.529150  0.351462  0.000000\nSelf-promotion              0.000000  0.200000  0.159143  0.000000\naccuracy                    0.056337  0.056337  0.056337  0.056337\nmacro avg                   0.041570  0.053340  0.059935  0.000000\nweighted avg                0.040376  0.056337  0.059515  0.000000",
      "text/html": "<div>\n<style scoped>\n    .dataframe tbody tr th:only-of-type {\n        vertical-align: middle;\n    }\n\n    .dataframe tbody tr th {\n        vertical-align: top;\n    }\n\n    .dataframe thead th {\n        text-align: right;\n    }\n</style>\n<table border=\"1\" class=\"dataframe\">\n  <thead>\n    <tr style=\"text-align: right;\">\n      <th></th>\n      <th>precision</th>\n      <th>recall</th>\n      <th>f1-score</th>\n      <th>support</th>\n    </tr>\n  </thead>\n  <tbody>\n    <tr>\n      <th>Advocacy</th>\n      <td>0.194784</td>\n      <td>0.144338</td>\n      <td>0.109291</td>\n      <td>0.000000</td>\n    </tr>\n    <tr>\n      <th>Arguing</th>\n      <td>0.288675</td>\n      <td>0.115470</td>\n      <td>0.164957</td>\n      <td>0.000000</td>\n    </tr>\n    <tr>\n      <th>Audiencing</th>\n      <td>0.180283</td>\n      <td>0.416333</td>\n      <td>0.245294</td>\n      <td>0.000000</td>\n    </tr>\n    <tr>\n      <th>Betting</th>\n      <td>0.120281</td>\n      <td>0.000000</td>\n      <td>0.080748</td>\n      <td>0.000000</td>\n    </tr>\n    <tr>\n      <th>Charity</th>\n      <td>0.144338</td>\n      <td>0.000000</td>\n      <td>0.048113</td>\n      <td>0.000000</td>\n    </tr>\n    <tr>\n      <th>Community imagining</th>\n      <td>0.230940</td>\n      <td>0.230940</td>\n      <td>0.230940</td>\n      <td>0.000000</td>\n    </tr>\n    <tr>\n      <th>Denouncing</th>\n      <td>0.083887</td>\n      <td>0.115470</td>\n      <td>0.050069</td>\n      <td>0.000000</td>\n    </tr>\n    <tr>\n      <th>Expressing emotions</th>\n      <td>0.166667</td>\n      <td>0.200000</td>\n      <td>0.099066</td>\n      <td>0.000000</td>\n    </tr>\n    <tr>\n      <th>Expressing solidarity</th>\n      <td>0.125000</td>\n      <td>0.115470</td>\n      <td>0.084323</td>\n      <td>0.000000</td>\n    </tr>\n    <tr>\n      <th>Knowledge performance</th>\n      <td>0.250000</td>\n      <td>0.230940</td>\n      <td>0.207567</td>\n      <td>0.000000</td>\n    </tr>\n    <tr>\n      <th>News and content curation</th>\n      <td>0.115470</td>\n      <td>0.115470</td>\n      <td>0.028868</td>\n      <td>0.000000</td>\n    </tr>\n    <tr>\n      <th>Not applicable</th>\n      <td>0.288675</td>\n      <td>0.529150</td>\n      <td>0.351462</td>\n      <td>0.000000</td>\n    </tr>\n    <tr>\n      <th>Self-promotion</th>\n      <td>0.000000</td>\n      <td>0.200000</td>\n      <td>0.159143</td>\n      <td>0.000000</td>\n    </tr>\n    <tr>\n      <th>accuracy</th>\n      <td>0.056337</td>\n      <td>0.056337</td>\n      <td>0.056337</td>\n      <td>0.056337</td>\n    </tr>\n    <tr>\n      <th>macro avg</th>\n      <td>0.041570</td>\n      <td>0.053340</td>\n      <td>0.059935</td>\n      <td>0.000000</td>\n    </tr>\n    <tr>\n      <th>weighted avg</th>\n      <td>0.040376</td>\n      <td>0.056337</td>\n      <td>0.059515</td>\n      <td>0.000000</td>\n    </tr>\n  </tbody>\n</table>\n</div>"
     },
     "execution_count": 200,
     "metadata": {},
     "output_type": "execute_result"
    }
   ],
   "source": [
    "per_category_results = {}\n",
    "for cat in cats:\n",
    "    res = []\n",
    "    for df in dfs:\n",
    "        res.append(df.loc[df.category == cat])\n",
    "    res_df = pd.concat(res, axis=0)\n",
    "    res_df.drop(columns='category', inplace=True)\n",
    "    stds = res_df.std().to_dict()\n",
    "    per_category_results[cat] = stds\n",
    "std_per_run = pd.DataFrame(per_category_results).T\n",
    "std_per_run"
   ],
   "metadata": {
    "collapsed": false,
    "pycharm": {
     "name": "#%%\n"
    }
   }
  },
  {
   "cell_type": "code",
   "execution_count": 201,
   "outputs": [],
   "source": [
    "std_per_run.to_csv(f'{result_directory}\\\\{run_of_interest}_std.csv')"
   ],
   "metadata": {
    "collapsed": false,
    "pycharm": {
     "name": "#%%\n"
    }
   }
  },
  {
   "cell_type": "code",
   "execution_count": null,
   "outputs": [],
   "source": [],
   "metadata": {
    "collapsed": false,
    "pycharm": {
     "name": "#%%\n"
    }
   }
  }
 ],
 "metadata": {
  "kernelspec": {
   "display_name": "Python 3",
   "language": "python",
   "name": "python3"
  },
  "language_info": {
   "codemirror_mode": {
    "name": "ipython",
    "version": 2
   },
   "file_extension": ".py",
   "mimetype": "text/x-python",
   "name": "python",
   "nbconvert_exporter": "python",
   "pygments_lexer": "ipython2",
   "version": "2.7.6"
  }
 },
 "nbformat": 4,
 "nbformat_minor": 0
}