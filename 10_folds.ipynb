{
 "cells": [
  {
   "cell_type": "code",
   "execution_count": 24,
   "outputs": [],
   "source": [
    "import warnings\n",
    "warnings.simplefilter('ignore', UserWarning)\n",
    "import pandas as pd\n",
    "from sklearn.model_selection import StratifiedShuffleSplit"
   ],
   "metadata": {
    "collapsed": false,
    "pycharm": {
     "name": "#%%\n"
    }
   }
  },
  {
   "cell_type": "code",
   "execution_count": 19,
   "outputs": [],
   "source": [
    "nafo_1 = pd.read_csv('NAFO_dev.csv', index_col=0)\n",
    "nafo_2 = pd.read_csv('NAFO_validation.csv', index_col=0)"
   ],
   "metadata": {
    "collapsed": false,
    "pycharm": {
     "name": "#%%\n"
    }
   }
  },
  {
   "cell_type": "code",
   "execution_count": 20,
   "outputs": [],
   "source": [
    "nafo_full = pd.concat([nafo_1, nafo_2], axis=0)\n",
    "nafo_full.to_csv('NAFO_gold_standard.csv')"
   ],
   "metadata": {
    "collapsed": false,
    "pycharm": {
     "name": "#%%\n"
    }
   }
  },
  {
   "cell_type": "code",
   "execution_count": 21,
   "outputs": [],
   "source": [
    "esc_1 = pd.read_csv('ESC_dev.csv', index_col=0)\n",
    "esc_2 = pd.read_csv('ESC_validation.csv', index_col=0)\n",
    "esc_full = pd.concat([esc_1, esc_2], axis=0)\n",
    "esc_full.to_csv('ESC_gold_standard.csv')"
   ],
   "metadata": {
    "collapsed": false,
    "pycharm": {
     "name": "#%%\n"
    }
   }
  },
  {
   "cell_type": "code",
   "execution_count": 30,
   "outputs": [],
   "source": [
    "sss = StratifiedShuffleSplit(n_splits=5, test_size=0.4, random_state=0)"
   ],
   "metadata": {
    "collapsed": false,
    "pycharm": {
     "name": "#%%\n"
    }
   }
  },
  {
   "cell_type": "code",
   "execution_count": 31,
   "outputs": [],
   "source": [
    "for i, (train_index, validate_index) in enumerate(sss.split(nafo_full, nafo_full.label,\n",
    "\t\t\t\t\t\t\t\t\t\t\t\t\t\t\tgroups=nafo_full.label)):\n",
    "\ttrain_df = pd.DataFrame(nafo_full.loc[train_index])\n",
    "\ttrain_df.to_csv(f'data/NAFO_fold_{i}_train.csv')\n",
    "\ttest_df = pd.DataFrame(nafo_full.loc[validate_index])\n",
    "\ttest_df.to_csv(f'data/NAFO_fold_{i}_test.csv')"
   ],
   "metadata": {
    "collapsed": false,
    "pycharm": {
     "name": "#%%\n"
    }
   }
  },
  {
   "cell_type": "code",
   "execution_count": 32,
   "outputs": [],
   "source": [
    "for i, (train_index, validate_index) in enumerate(sss.split(esc_full, esc_full.label,\n",
    "\t\t\t\t\t\t\t\t\t\t\t\t\t\t\tgroups=esc_full.label)):\n",
    "\ttrain_df = pd.DataFrame(esc_full.loc[train_index])\n",
    "\ttrain_df.to_csv(f'data/ESC_fold_{i}_train.csv')\n",
    "\ttest_df = pd.DataFrame(esc_full.loc[validate_index])\n",
    "\ttest_df.to_csv(f'data/ESC_fold_{i}_test.csv')"
   ],
   "metadata": {
    "collapsed": false,
    "pycharm": {
     "name": "#%%\n"
    }
   }
  }
 ],
 "metadata": {
  "kernelspec": {
   "display_name": "Python 3",
   "language": "python",
   "name": "python3"
  },
  "language_info": {
   "codemirror_mode": {
    "name": "ipython",
    "version": 2
   },
   "file_extension": ".py",
   "mimetype": "text/x-python",
   "name": "python",
   "nbconvert_exporter": "python",
   "pygments_lexer": "ipython2",
   "version": "2.7.6"
  }
 },
 "nbformat": 4,
 "nbformat_minor": 0
}