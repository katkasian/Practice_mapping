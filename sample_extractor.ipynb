{
 "cells": [
  {
   "cell_type": "code",
   "execution_count": 1,
   "outputs": [],
   "source": [
    "import warnings\n",
    "warnings.simplefilter(\"ignore\", UserWarning)\n",
    "import pandas as pd"
   ],
   "metadata": {
    "collapsed": false,
    "pycharm": {
     "name": "#%%\n"
    }
   }
  },
  {
   "cell_type": "code",
   "execution_count": 12,
   "outputs": [],
   "source": [
    "v = 'v2_1_4'"
   ],
   "metadata": {
    "collapsed": false,
    "pycharm": {
     "name": "#%%\n"
    }
   }
  },
  {
   "cell_type": "markdown",
   "source": [
    "## K=1"
   ],
   "metadata": {
    "collapsed": false,
    "pycharm": {
     "name": "#%% md\n"
    }
   }
  },
  {
   "cell_type": "code",
   "execution_count": 15,
   "outputs": [],
   "source": [
    "def make_prompts_k1(filename, iteration, version, base_file):\n",
    "    data = pd.read_csv(filename, index_col=0)\n",
    "    data = data.sample(frac=1)\n",
    "    two_sample = pd.DataFrame(data.groupby('label')['text'].apply(lambda s: s.sample(1)))\n",
    "    two_sample.reset_index(inplace=True)\n",
    "    two_sample.drop(columns=['level_1'], inplace=True)\n",
    "    with open(f'mar_2024_prompts\\\\{version}\\\\{base_file}', 'r', encoding='utf-8') as f:\n",
    "        prompt = f.read()\n",
    "        cleaned_prompt_list = prompt.split('\\n\\n')[:-1]\n",
    "        prompt = '\\n\\n'.join(cleaned_prompt_list)\n",
    "        if 'MPE' in base_file:\n",
    "            file_to_write = f'mar_2024_prompts\\\\{version}\\\\ESC_k1_MPE_{iteration}.txt'\n",
    "        else:\n",
    "            file_to_write = f'mar_2024_prompts\\\\{version}\\\\ESC_k1_{iteration}.txt'\n",
    "    with open(file_to_write, 'w') as f:\n",
    "        f.write(f'{prompt}\\n\\nHere are a few examples of tweets with their assigned practice.')\n",
    "    with open(file_to_write, 'a', encoding='utf-8') as f:\n",
    "        for tweet in two_sample.iterrows():\n",
    "            tweet_practice = tweet[1][0][5:]\n",
    "            tweet_text = tweet[1][1]\n",
    "            f.write(f'''\\n\\nTweet: {tweet_text}\\nPractice: {tweet_practice}''')\n",
    "\n",
    "\n",
    "for i in range(4, 11):\n",
    "    make_prompts_k1('ESC_dev.csv', i, v, 'ESC_MPE_zero_shot.txt')"
   ],
   "metadata": {
    "collapsed": false,
    "pycharm": {
     "name": "#%%\n"
    }
   }
  },
  {
   "cell_type": "markdown",
   "source": [
    "## K=2"
   ],
   "metadata": {
    "collapsed": false,
    "pycharm": {
     "name": "#%% md\n"
    }
   }
  },
  {
   "cell_type": "code",
   "execution_count": 16,
   "outputs": [],
   "source": [
    "def make_prompts_k2(filename, iteration, version, base_file):\n",
    "    data = pd.read_csv(filename, index_col=0)\n",
    "    data = data.sample(frac=1)\n",
    "    two_sample = pd.DataFrame(data.groupby('label')['text'].apply(lambda s: s.sample(2)))\n",
    "    two_sample.reset_index(inplace=True)\n",
    "    two_sample.drop(columns=['level_1'], inplace=True)\n",
    "    with open(f'mar_2024_prompts\\\\{version}\\\\{base_file}', 'r', encoding='utf-8') as f:\n",
    "        prompt = f.read()\n",
    "        cleaned_prompt_list = prompt.split('\\n\\n')[:-1]\n",
    "        prompt = '\\n\\n'.join(cleaned_prompt_list)\n",
    "        if 'MPE' in base_file:\n",
    "            file_to_write = f'mar_2024_prompts\\\\{version}\\\\ESC_k2_MPE_{iteration}.txt'\n",
    "        else:\n",
    "            file_to_write = f'mar_2024_prompts\\\\{version}\\\\ESC_k2_{iteration}.txt'\n",
    "    with open(file_to_write, 'w') as f:\n",
    "        f.write(f'{prompt}\\n\\nHere are a few examples of tweets with their assigned practice.')\n",
    "    with open(file_to_write, 'a', encoding='utf-8') as f:\n",
    "        for tweet in two_sample.iterrows():\n",
    "            tweet_practice = tweet[1][0][5:]\n",
    "            tweet_text = tweet[1][1]\n",
    "            f.write(f'''\\n\\nTweet: {tweet_text}\\nPractice: {tweet_practice}''')\n",
    "\n",
    "\n",
    "for i in range(4, 11):\n",
    "    make_prompts_k2('ESC_dev.csv', i, v, 'ESC_MPE_zero_shot.txt')"
   ],
   "metadata": {
    "collapsed": false,
    "pycharm": {
     "name": "#%%\n"
    }
   }
  },
  {
   "cell_type": "markdown",
   "source": [
    "## Sampling the validation dataset for refinement of prompts. Copies the prompt to clipboard"
   ],
   "metadata": {
    "collapsed": false,
    "pycharm": {
     "name": "#%% md\n"
    }
   }
  },
  {
   "cell_type": "code",
   "execution_count": 634,
   "outputs": [],
   "source": [
    "import xerox\n",
    "\n",
    "dev_data = pd.read_csv('NAFO_validation5050.csv', index_col=0)\n",
    "practice = 'L3 - Not applicable'\n",
    "dev_data = dev_data.sample(frac=1)\n",
    "sample = pd.DataFrame(dev_data.groupby('label')['text'].apply(lambda s: s.sample(1)))\n",
    "sample.reset_index(inplace=True)\n",
    "sample.drop(columns=['level_1'], inplace=True)\n",
    "text = f\"Tweet: {sample.loc[sample.label == practice, 'text'].values[0]}\"\n",
    "xerox.copy(text)"
   ],
   "metadata": {
    "collapsed": false,
    "pycharm": {
     "name": "#%%\n"
    }
   }
  },
  {
   "cell_type": "code",
   "execution_count": null,
   "outputs": [],
   "source": [],
   "metadata": {
    "collapsed": false,
    "pycharm": {
     "name": "#%%\n"
    }
   }
  }
 ],
 "metadata": {
  "kernelspec": {
   "display_name": "Python 3",
   "language": "python",
   "name": "python3"
  },
  "language_info": {
   "codemirror_mode": {
    "name": "ipython",
    "version": 2
   },
   "file_extension": ".py",
   "mimetype": "text/x-python",
   "name": "python",
   "nbconvert_exporter": "python",
   "pygments_lexer": "ipython2",
   "version": "2.7.6"
  }
 },
 "nbformat": 4,
 "nbformat_minor": 0
}