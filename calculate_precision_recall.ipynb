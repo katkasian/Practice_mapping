{
 "cells": [
  {
   "cell_type": "code",
   "execution_count": 1,
   "outputs": [],
   "source": [
    "import warnings\n",
    "warnings.simplefilter(\"ignore\", UserWarning)\n",
    "import pandas as pd\n",
    "import os"
   ],
   "metadata": {
    "collapsed": false,
    "pycharm": {
     "name": "#%%\n"
    }
   }
  },
  {
   "cell_type": "code",
   "execution_count": 26,
   "outputs": [],
   "source": [
    "parent_directory = 'mar_2024_results'"
   ],
   "metadata": {
    "collapsed": false,
    "pycharm": {
     "name": "#%%\n"
    }
   }
  },
  {
   "cell_type": "code",
   "execution_count": 27,
   "outputs": [],
   "source": [
    "case_study = 'NAFO' #NAFO or ESC"
   ],
   "metadata": {
    "collapsed": false,
    "pycharm": {
     "name": "#%%\n"
    }
   }
  },
  {
   "cell_type": "code",
   "execution_count": 29,
   "outputs": [],
   "source": [
    "case_study2 = 'ESC'"
   ],
   "metadata": {
    "collapsed": false,
    "pycharm": {
     "name": "#%%\n"
    }
   }
  },
  {
   "cell_type": "code",
   "execution_count": 30,
   "outputs": [],
   "source": [
    "settings_of_interest = ['zero','k1','k2']"
   ],
   "metadata": {
    "collapsed": false,
    "pycharm": {
     "name": "#%%\n"
    }
   }
  },
  {
   "cell_type": "code",
   "execution_count": 31,
   "outputs": [],
   "source": [
    "output_of_settings = ['K=0', 'K=1', 'K=2']"
   ],
   "metadata": {
    "collapsed": false,
    "pycharm": {
     "name": "#%%\n"
    }
   }
  },
  {
   "cell_type": "code",
   "execution_count": 39,
   "outputs": [],
   "source": [
    "dfs = []\n",
    "for i in os.listdir(parent_directory):\n",
    "    if i not in ['v1', 'v2_2', 'v3_1_3', 'v3_1_4']:\n",
    "        for setting in settings_of_interest[0]:\n",
    "            child_dir = f'{parent_directory}//{i}'\n",
    "            for item in os.listdir(child_dir):\n",
    "                if 'all' in item and  setting in item and 'MPE' not in item and 'GPT4' not in  item:\n",
    "                    df = pd.read_csv(f'{child_dir}\\\\{item}', index_col=0)\n",
    "                    #df.columns = ['category', 'precision', 'recall', 'f1-score', 'support']\n",
    "                    dfs.append(df)"
   ],
   "metadata": {
    "collapsed": false,
    "pycharm": {
     "name": "#%%\n"
    }
   }
  },
  {
   "cell_type": "code",
   "execution_count": 41,
   "outputs": [
    {
     "data": {
      "text/plain": "                           precision   recall  f1-score    support\nAdvocacy                    0.467039  0.74000  0.570776   10.00000\nArguing                     0.454870  0.38000  0.407088   10.00000\nAudiencing                  0.100000  0.02000  0.033333   10.00000\nBoosting                    0.960000  0.82000  0.880261   10.00000\nCommunity work              0.186144  0.32000  0.235175   10.00000\nExpressing solidarity       0.456263  0.48000  0.466648   10.00000\nFundraising                 0.800000  0.80000  0.796970   10.00000\nKnowledge performance       0.500000  0.10000  0.166667   10.00000\nMembership requests         0.635238  0.86000  0.730174   10.00000\nMeme creation               0.889286  0.60000  0.714379   10.00000\nMobilising                  0.453654  0.62000  0.519866   10.00000\nNews and content curation   0.516667  0.26000  0.339348   10.00000\nNot applicable              0.200131  0.36000  0.257037   10.00000\nPlay                        0.236350  0.40000  0.296601   10.00000\nSelf-promotion              0.000000  0.00000  0.000000   10.00000\nShitposting                 0.361230  0.42000  0.385008   10.00000\naccuracy                    0.448750  0.44875  0.448750    0.44875\nmacro avg                   0.451054  0.44875  0.424958  160.00000\nweighted avg                0.451054  0.44875  0.424958  160.00000",
      "text/html": "<div>\n<style scoped>\n    .dataframe tbody tr th:only-of-type {\n        vertical-align: middle;\n    }\n\n    .dataframe tbody tr th {\n        vertical-align: top;\n    }\n\n    .dataframe thead th {\n        text-align: right;\n    }\n</style>\n<table border=\"1\" class=\"dataframe\">\n  <thead>\n    <tr style=\"text-align: right;\">\n      <th></th>\n      <th>precision</th>\n      <th>recall</th>\n      <th>f1-score</th>\n      <th>support</th>\n    </tr>\n  </thead>\n  <tbody>\n    <tr>\n      <th>Advocacy</th>\n      <td>0.467039</td>\n      <td>0.74000</td>\n      <td>0.570776</td>\n      <td>10.00000</td>\n    </tr>\n    <tr>\n      <th>Arguing</th>\n      <td>0.454870</td>\n      <td>0.38000</td>\n      <td>0.407088</td>\n      <td>10.00000</td>\n    </tr>\n    <tr>\n      <th>Audiencing</th>\n      <td>0.100000</td>\n      <td>0.02000</td>\n      <td>0.033333</td>\n      <td>10.00000</td>\n    </tr>\n    <tr>\n      <th>Boosting</th>\n      <td>0.960000</td>\n      <td>0.82000</td>\n      <td>0.880261</td>\n      <td>10.00000</td>\n    </tr>\n    <tr>\n      <th>Community work</th>\n      <td>0.186144</td>\n      <td>0.32000</td>\n      <td>0.235175</td>\n      <td>10.00000</td>\n    </tr>\n    <tr>\n      <th>Expressing solidarity</th>\n      <td>0.456263</td>\n      <td>0.48000</td>\n      <td>0.466648</td>\n      <td>10.00000</td>\n    </tr>\n    <tr>\n      <th>Fundraising</th>\n      <td>0.800000</td>\n      <td>0.80000</td>\n      <td>0.796970</td>\n      <td>10.00000</td>\n    </tr>\n    <tr>\n      <th>Knowledge performance</th>\n      <td>0.500000</td>\n      <td>0.10000</td>\n      <td>0.166667</td>\n      <td>10.00000</td>\n    </tr>\n    <tr>\n      <th>Membership requests</th>\n      <td>0.635238</td>\n      <td>0.86000</td>\n      <td>0.730174</td>\n      <td>10.00000</td>\n    </tr>\n    <tr>\n      <th>Meme creation</th>\n      <td>0.889286</td>\n      <td>0.60000</td>\n      <td>0.714379</td>\n      <td>10.00000</td>\n    </tr>\n    <tr>\n      <th>Mobilising</th>\n      <td>0.453654</td>\n      <td>0.62000</td>\n      <td>0.519866</td>\n      <td>10.00000</td>\n    </tr>\n    <tr>\n      <th>News and content curation</th>\n      <td>0.516667</td>\n      <td>0.26000</td>\n      <td>0.339348</td>\n      <td>10.00000</td>\n    </tr>\n    <tr>\n      <th>Not applicable</th>\n      <td>0.200131</td>\n      <td>0.36000</td>\n      <td>0.257037</td>\n      <td>10.00000</td>\n    </tr>\n    <tr>\n      <th>Play</th>\n      <td>0.236350</td>\n      <td>0.40000</td>\n      <td>0.296601</td>\n      <td>10.00000</td>\n    </tr>\n    <tr>\n      <th>Self-promotion</th>\n      <td>0.000000</td>\n      <td>0.00000</td>\n      <td>0.000000</td>\n      <td>10.00000</td>\n    </tr>\n    <tr>\n      <th>Shitposting</th>\n      <td>0.361230</td>\n      <td>0.42000</td>\n      <td>0.385008</td>\n      <td>10.00000</td>\n    </tr>\n    <tr>\n      <th>accuracy</th>\n      <td>0.448750</td>\n      <td>0.44875</td>\n      <td>0.448750</td>\n      <td>0.44875</td>\n    </tr>\n    <tr>\n      <th>macro avg</th>\n      <td>0.451054</td>\n      <td>0.44875</td>\n      <td>0.424958</td>\n      <td>160.00000</td>\n    </tr>\n    <tr>\n      <th>weighted avg</th>\n      <td>0.451054</td>\n      <td>0.44875</td>\n      <td>0.424958</td>\n      <td>160.00000</td>\n    </tr>\n  </tbody>\n</table>\n</div>"
     },
     "execution_count": 41,
     "metadata": {},
     "output_type": "execute_result"
    }
   ],
   "source": [
    "dfs[0]"
   ],
   "metadata": {
    "collapsed": false,
    "pycharm": {
     "name": "#%%\n"
    }
   }
  },
  {
   "cell_type": "code",
   "execution_count": 9,
   "outputs": [],
   "source": [
    "output = pd.concat(dfs, axis=0)"
   ],
   "metadata": {
    "collapsed": false,
    "pycharm": {
     "name": "#%%\n"
    }
   }
  },
  {
   "cell_type": "code",
   "execution_count": null,
   "outputs": [],
   "source": [
    "d"
   ],
   "metadata": {
    "collapsed": false,
    "pycharm": {
     "name": "#%%\n"
    }
   }
  }
 ],
 "metadata": {
  "kernelspec": {
   "display_name": "Python 3",
   "language": "python",
   "name": "python3"
  },
  "language_info": {
   "codemirror_mode": {
    "name": "ipython",
    "version": 2
   },
   "file_extension": ".py",
   "mimetype": "text/x-python",
   "name": "python",
   "nbconvert_exporter": "python",
   "pygments_lexer": "ipython2",
   "version": "2.7.6"
  }
 },
 "nbformat": 4,
 "nbformat_minor": 0
}