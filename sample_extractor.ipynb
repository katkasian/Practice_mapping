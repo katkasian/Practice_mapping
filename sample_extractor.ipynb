{
 "cells": [
  {
   "cell_type": "code",
   "execution_count": 1,
   "outputs": [],
   "source": [
    "import warnings\n",
    "warnings.simplefilter(\"ignore\", UserWarning)\n",
    "import pandas as pd"
   ],
   "metadata": {
    "collapsed": false,
    "pycharm": {
     "name": "#%%\n"
    }
   }
  },
  {
   "cell_type": "code",
   "execution_count": 12,
   "outputs": [],
   "source": [
    "v = 'gpt_5f'"
   ],
   "metadata": {
    "collapsed": false,
    "pycharm": {
     "name": "#%%\n"
    }
   }
  },
  {
   "cell_type": "markdown",
   "source": [
    "## K=1"
   ],
   "metadata": {
    "collapsed": false,
    "pycharm": {
     "name": "#%% md\n"
    }
   }
  },
  {
   "cell_type": "code",
   "execution_count": 10,
   "outputs": [],
   "source": [
    "def make_prompts_k1(filename, iteration, version, base_file):\n",
    "    case_study = base_file.split('_')[0]\n",
    "    data = pd.read_csv(filename, index_col=0)\n",
    "    data = data.sample(frac=1)\n",
    "    two_sample = pd.DataFrame(data.groupby('label')['text'].apply(lambda s: s.sample(1)))\n",
    "    two_sample.reset_index(inplace=True)\n",
    "    two_sample.drop(columns=['level_1'], inplace=True)\n",
    "    with open(f'mar_2024_prompts\\\\{version}\\\\{base_file}', 'r', encoding='utf-8') as f:\n",
    "        prompt = f.read()\n",
    "        cleaned_prompt_list = prompt.split('\\n\\n')[:-1]\n",
    "        prompt = '\\n\\n'.join(cleaned_prompt_list)\n",
    "        if 'MPE' in base_file:\n",
    "            file_to_write = f'mar_2024_prompts\\\\{version}\\\\{case_study}_k1_MPE_{iteration}.txt'\n",
    "        else:\n",
    "            file_to_write = f'mar_2024_prompts\\\\{version}\\\\{case_study}_k1_{iteration}.txt'\n",
    "    with open(file_to_write, 'w') as f:\n",
    "        f.write(f'{prompt}\\n\\nHere are a few examples of tweets with their assigned practice.')\n",
    "    with open(file_to_write, 'a', encoding='utf-8') as f:\n",
    "        for tweet in two_sample.iterrows():\n",
    "            tweet_practice = tweet[1][0][5:]\n",
    "            tweet_text = tweet[1][1]\n",
    "            f.write(f'''\\n\\nTweet: {tweet_text}\\nPractice: {tweet_practice}''')"
   ],
   "metadata": {
    "collapsed": false,
    "pycharm": {
     "name": "#%%\n"
    }
   }
  },
  {
   "cell_type": "code",
   "execution_count": 14,
   "outputs": [],
   "source": [
    "for i in range(0, 5):\n",
    "    make_prompts_k1(f'data\\\\ESC_fold_{i}_train.csv', i, v, 'ESC_zero_shot.txt')"
   ],
   "metadata": {
    "collapsed": false,
    "pycharm": {
     "name": "#%%\n"
    }
   }
  },
  {
   "cell_type": "code",
   "execution_count": 13,
   "outputs": [],
   "source": [
    "for i in range(0, 5):\n",
    "    make_prompts_k1(f'data\\\\ESC_fold_{i}_train.csv', i, v, 'ESC_MPE_zero_shot.txt')"
   ],
   "metadata": {
    "collapsed": false,
    "pycharm": {
     "name": "#%%\n"
    }
   }
  },
  {
   "cell_type": "code",
   "execution_count": 16,
   "outputs": [],
   "source": [
    "for i in range(0, 5):\n",
    "    make_prompts_k1(f'data\\\\NAFO_fold_{i}_train.csv', i, v, 'NAFO_zero_shot.txt')"
   ],
   "metadata": {
    "collapsed": false,
    "pycharm": {
     "name": "#%%\n"
    }
   }
  },
  {
   "cell_type": "code",
   "execution_count": 17,
   "outputs": [],
   "source": [
    "for i in range(0, 5):\n",
    "    make_prompts_k1(f'data\\\\NAFO_fold_{i}_train.csv', i, v, 'NAFO_MPE_zero_shot.txt')"
   ],
   "metadata": {
    "collapsed": false,
    "pycharm": {
     "name": "#%%\n"
    }
   }
  },
  {
   "cell_type": "markdown",
   "source": [
    "## K=2"
   ],
   "metadata": {
    "collapsed": false,
    "pycharm": {
     "name": "#%% md\n"
    }
   }
  },
  {
   "cell_type": "code",
   "execution_count": 14,
   "outputs": [],
   "source": [
    "def make_prompts_k2(filename, iteration, version, base_file):\n",
    "    case_study = base_file.split('_')[0]\n",
    "    data = pd.read_csv(filename, index_col=0)\n",
    "    data = data.sample(frac=1)\n",
    "    two_sample = pd.DataFrame(data.groupby('label')['text'].apply(lambda s: s.sample(2)))\n",
    "    two_sample.reset_index(inplace=True)\n",
    "    two_sample.drop(columns=['level_1'], inplace=True)\n",
    "    with open(f'mar_2024_prompts\\\\{version}\\\\{base_file}', 'r', encoding='utf-8') as f:\n",
    "        prompt = f.read()\n",
    "        cleaned_prompt_list = prompt.split('\\n\\n')[:-1]\n",
    "        prompt = '\\n\\n'.join(cleaned_prompt_list)\n",
    "        if 'MPE' in base_file:\n",
    "            file_to_write = f'mar_2024_prompts\\\\{version}\\\\{case_study}_k2_MPE_{iteration}.txt'\n",
    "        else:\n",
    "            file_to_write = f'mar_2024_prompts\\\\{version}\\\\{case_study}_k2_{iteration}.txt'\n",
    "    with open(file_to_write, 'w') as f:\n",
    "        f.write(f'{prompt}\\n\\nHere are a few examples of tweets with their assigned practice.')\n",
    "    with open(file_to_write, 'a', encoding='utf-8') as f:\n",
    "        for tweet in two_sample.iterrows():\n",
    "            tweet_practice = tweet[1][0][5:]\n",
    "            tweet_text = tweet[1][1]\n",
    "            f.write(f'''\\n\\nTweet: {tweet_text}\\nPractice: {tweet_practice}''')"
   ],
   "metadata": {
    "collapsed": false,
    "pycharm": {
     "name": "#%%\n"
    }
   }
  },
  {
   "cell_type": "code",
   "execution_count": null,
   "outputs": [],
   "source": [
    "for i in range(0, 5):\n",
    "    make_prompts_k2(f'data\\\\ESC_fold_{i}_train.csv', i, v, 'ESC_zero_shot.txt')"
   ],
   "metadata": {
    "collapsed": false,
    "pycharm": {
     "name": "#%%\n"
    }
   }
  },
  {
   "cell_type": "code",
   "execution_count": 17,
   "outputs": [],
   "source": [
    "for i in range(0, 5):\n",
    "    make_prompts_k2(f'data\\\\ESC_fold_{i}_train.csv', i, v, 'ESC_MPE_zero_shot.txt')"
   ],
   "metadata": {
    "collapsed": false,
    "pycharm": {
     "name": "#%%\n"
    }
   }
  },
  {
   "cell_type": "code",
   "execution_count": 19,
   "outputs": [],
   "source": [
    "for i in range(0, 5):\n",
    "    make_prompts_k2(f'data\\\\NAFO_fold_{i}_train.csv', i, v, 'NAFO_zero_shot.txt')\n",
    "for i in range(0, 5):\n",
    "    make_prompts_k2(f'data\\\\NAFO_fold_{i}_train.csv', i, v, 'NAFO_MPE_zero_shot.txt')"
   ],
   "metadata": {
    "collapsed": false,
    "pycharm": {
     "name": "#%%\n"
    }
   }
  },
  {
   "cell_type": "markdown",
   "source": [
    "## Sampling the validation dataset for refinement of prompts. Copies the prompt to clipboard"
   ],
   "metadata": {
    "collapsed": false,
    "pycharm": {
     "name": "#%% md\n"
    }
   }
  },
  {
   "cell_type": "code",
   "execution_count": 9,
   "outputs": [],
   "source": [
    "import xerox\n",
    "import pandas as pd\n",
    "\n",
    "dev_data = pd.read_csv('ESC_validation5050.csv', index_col=0)\n",
    "practice = 'L3 - Not applicable'\n",
    "dev_data = dev_data.sample(frac=1)\n",
    "sample = pd.DataFrame(dev_data.groupby('label')['text'].apply(lambda s: s.sample(1)))\n",
    "sample.reset_index(inplace=True)\n",
    "sample.drop(columns=['level_1'], inplace=True)\n",
    "text = f\"Tweet: {sample.loc[sample.label == practice, 'text'].values[0]}\"\n",
    "xerox.copy(text)"
   ],
   "metadata": {
    "collapsed": false,
    "pycharm": {
     "name": "#%%\n"
    }
   }
  },
  {
   "cell_type": "code",
   "execution_count": 5,
   "outputs": [
    {
     "ename": "SyntaxError",
     "evalue": "invalid character '’' (U+2019) (163846720.py, line 1)",
     "output_type": "error",
     "traceback": [
      "\u001B[1;36m  Input \u001B[1;32mIn [5]\u001B[1;36m\u001B[0m\n\u001B[1;33m    Tweet: let me get this straight, because your favorite did not win eurovision does not give you any right to discredit ukraine winning. let’s celebrate your favorite making it to the final or even being able to perform at eurovision instead of bringing down others.\u001B[0m\n\u001B[1;37m                                                                                                                                               ^\u001B[0m\n\u001B[1;31mSyntaxError\u001B[0m\u001B[1;31m:\u001B[0m invalid character '’' (U+2019)\n"
     ]
    }
   ],
   "source": [],
   "metadata": {
    "collapsed": false,
    "pycharm": {
     "name": "#%%\n"
    }
   }
  },
  {
   "cell_type": "code",
   "execution_count": null,
   "outputs": [],
   "source": [],
   "metadata": {
    "collapsed": false,
    "pycharm": {
     "name": "#%%\n"
    }
   }
  }
 ],
 "metadata": {
  "kernelspec": {
   "display_name": "Python 3",
   "language": "python",
   "name": "python3"
  },
  "language_info": {
   "codemirror_mode": {
    "name": "ipython",
    "version": 2
   },
   "file_extension": ".py",
   "mimetype": "text/x-python",
   "name": "python",
   "nbconvert_exporter": "python",
   "pygments_lexer": "ipython2",
   "version": "2.7.6"
  }
 },
 "nbformat": 4,
 "nbformat_minor": 0
}