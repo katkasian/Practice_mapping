{
 "cells": [
  {
   "cell_type": "code",
   "execution_count": 2,
   "outputs": [],
   "source": [
    "import warnings\n",
    "warnings.simplefilter(\"ignore\", UserWarning)\n",
    "import pandas as pd\n",
    "import os"
   ],
   "metadata": {
    "collapsed": false,
    "pycharm": {
     "name": "#%%\n"
    }
   }
  },
  {
   "cell_type": "code",
   "execution_count": 16,
   "outputs": [],
   "source": [
    "parent_directory = 'mar_2024_open_ai_output'"
   ],
   "metadata": {
    "collapsed": false,
    "pycharm": {
     "name": "#%%\n"
    }
   }
  },
  {
   "cell_type": "code",
   "execution_count": 6,
   "outputs": [],
   "source": [
    "case_study = 'NAFO' #NAFO or ESC"
   ],
   "metadata": {
    "collapsed": false,
    "pycharm": {
     "name": "#%%\n"
    }
   }
  },
  {
   "cell_type": "code",
   "execution_count": 48,
   "outputs": [],
   "source": [
    "case_study2 = 'ESC'"
   ],
   "metadata": {
    "collapsed": false,
    "pycharm": {
     "name": "#%%\n"
    }
   }
  },
  {
   "cell_type": "code",
   "execution_count": 137,
   "outputs": [],
   "source": [
    "allowed_cats = pd.read_csv(f'{case_study}_dev.csv').label.to_list()"
   ],
   "metadata": {
    "collapsed": false,
    "pycharm": {
     "name": "#%%\n"
    }
   }
  },
  {
   "cell_type": "code",
   "execution_count": 138,
   "outputs": [],
   "source": [
    "allowed_cats = [i[5:] for i in set(allowed_cats)]"
   ],
   "metadata": {
    "collapsed": false,
    "pycharm": {
     "name": "#%%\n"
    }
   }
  },
  {
   "cell_type": "code",
   "execution_count": 139,
   "outputs": [],
   "source": [
    "allowed_cats_2 = pd.read_csv(f'{case_study2}_dev.csv').label.to_list()"
   ],
   "metadata": {
    "collapsed": false,
    "pycharm": {
     "name": "#%%\n"
    }
   }
  },
  {
   "cell_type": "code",
   "execution_count": 140,
   "outputs": [],
   "source": [
    "allowed_cats_2 = [i[5:] for i in set(allowed_cats_2)]"
   ],
   "metadata": {
    "collapsed": false,
    "pycharm": {
     "name": "#%%\n"
    }
   }
  },
  {
   "cell_type": "code",
   "execution_count": 141,
   "outputs": [],
   "source": [
    "allowed = allowed_cats + allowed_cats_2"
   ],
   "metadata": {
    "collapsed": false,
    "pycharm": {
     "name": "#%%\n"
    }
   }
  },
  {
   "cell_type": "code",
   "execution_count": 142,
   "outputs": [],
   "source": [
    "allowed = list(set(allowed))"
   ],
   "metadata": {
    "collapsed": false,
    "pycharm": {
     "name": "#%%\n"
    }
   }
  },
  {
   "cell_type": "code",
   "execution_count": 187,
   "outputs": [],
   "source": [
    "setting_of_interest = 'k2'"
   ],
   "metadata": {
    "collapsed": false,
    "pycharm": {
     "name": "#%%\n"
    }
   }
  },
  {
   "cell_type": "code",
   "execution_count": 199,
   "outputs": [],
   "source": [
    "dfs = []\n",
    "for i in os.listdir(parent_directory):\n",
    "    if i not in ['v1', 'v2_2', 'v3_1_3', 'v3_1_4']:\n",
    "        child_dir = f'{parent_directory}//{i}'\n",
    "        for item in os.listdir(child_dir):\n",
    "            if setting_of_interest in item and 'MPE' in item and 'GPT4' in item:\n",
    "                df = pd.read_csv(f'{child_dir}//{item}', index_col=0)\n",
    "                dfs.append(df)"
   ],
   "metadata": {
    "collapsed": false,
    "pycharm": {
     "name": "#%%\n"
    }
   }
  },
  {
   "cell_type": "code",
   "execution_count": 200,
   "outputs": [],
   "source": [
    "result_directory = f'mar_2024_results\\\\gpt_results\\\\hallucinations'"
   ],
   "metadata": {
    "collapsed": false,
    "pycharm": {
     "name": "#%%\n"
    }
   }
  },
  {
   "cell_type": "code",
   "execution_count": 201,
   "outputs": [],
   "source": [
    "output = pd.concat(dfs, axis=0)"
   ],
   "metadata": {
    "collapsed": false,
    "pycharm": {
     "name": "#%%\n"
    }
   }
  },
  {
   "cell_type": "code",
   "execution_count": 202,
   "outputs": [],
   "source": [
    "output.predicted_label.fillna('', inplace=True)"
   ],
   "metadata": {
    "collapsed": false,
    "pycharm": {
     "name": "#%%\n"
    }
   }
  },
  {
   "cell_type": "code",
   "execution_count": 203,
   "outputs": [
    {
     "data": {
      "text/plain": "                                           tweet_text predicted_label  \\\n0   @Maks_NAFO_FELLA Russia is going to strike by ...     Shitposting   \n1   #Fellas #Nafo please Bonk this deluded troll. ...      Mobilising   \n2   NAFO fellas, engage here (call for Article 5) ...      Mobilising   \n3   choo choo motherf*ckers, here comes the #NAFO ...   Meme creation   \n4   @dosek_v 1. Ke idiocká věc být naštvani kvuli ...  Not applicable   \n..                                                ...             ...   \n75  @NLwartracker Someone please have a Nafo/god m...   Meme creation   \n76  @JoohnChoe NAFO here. Nayfo is a no-no. But It...  Community work   \n77  @Nafo_Sapper @JBWarsaw Better yet I have 3: \\n...  Community work   \n78  @leftstasi what your uncle Vlad doing? #PutinP...     Shitposting   \n79  @Official_NAFO @U24_gov_ua the Man-O-War Nafo ...   Meme creation   \n\n             true_label  \n0             L2 - Play  \n1       L1 - Mobilising  \n2       L1 - Mobilising  \n3             L2 - Play  \n4          L2 - Arguing  \n..                  ...  \n75   L1 - Meme creation  \n76  L2 - Community work  \n77  L1 - Self-promotion  \n78     L1 - Shitposting  \n79   L1 - Meme creation  \n\n[1475 rows x 3 columns]",
      "text/html": "<div>\n<style scoped>\n    .dataframe tbody tr th:only-of-type {\n        vertical-align: middle;\n    }\n\n    .dataframe tbody tr th {\n        vertical-align: top;\n    }\n\n    .dataframe thead th {\n        text-align: right;\n    }\n</style>\n<table border=\"1\" class=\"dataframe\">\n  <thead>\n    <tr style=\"text-align: right;\">\n      <th></th>\n      <th>tweet_text</th>\n      <th>predicted_label</th>\n      <th>true_label</th>\n    </tr>\n  </thead>\n  <tbody>\n    <tr>\n      <th>0</th>\n      <td>@Maks_NAFO_FELLA Russia is going to strike by ...</td>\n      <td>Shitposting</td>\n      <td>L2 - Play</td>\n    </tr>\n    <tr>\n      <th>1</th>\n      <td>#Fellas #Nafo please Bonk this deluded troll. ...</td>\n      <td>Mobilising</td>\n      <td>L1 - Mobilising</td>\n    </tr>\n    <tr>\n      <th>2</th>\n      <td>NAFO fellas, engage here (call for Article 5) ...</td>\n      <td>Mobilising</td>\n      <td>L1 - Mobilising</td>\n    </tr>\n    <tr>\n      <th>3</th>\n      <td>choo choo motherf*ckers, here comes the #NAFO ...</td>\n      <td>Meme creation</td>\n      <td>L2 - Play</td>\n    </tr>\n    <tr>\n      <th>4</th>\n      <td>@dosek_v 1. Ke idiocká věc být naštvani kvuli ...</td>\n      <td>Not applicable</td>\n      <td>L2 - Arguing</td>\n    </tr>\n    <tr>\n      <th>...</th>\n      <td>...</td>\n      <td>...</td>\n      <td>...</td>\n    </tr>\n    <tr>\n      <th>75</th>\n      <td>@NLwartracker Someone please have a Nafo/god m...</td>\n      <td>Meme creation</td>\n      <td>L1 - Meme creation</td>\n    </tr>\n    <tr>\n      <th>76</th>\n      <td>@JoohnChoe NAFO here. Nayfo is a no-no. But It...</td>\n      <td>Community work</td>\n      <td>L2 - Community work</td>\n    </tr>\n    <tr>\n      <th>77</th>\n      <td>@Nafo_Sapper @JBWarsaw Better yet I have 3: \\n...</td>\n      <td>Community work</td>\n      <td>L1 - Self-promotion</td>\n    </tr>\n    <tr>\n      <th>78</th>\n      <td>@leftstasi what your uncle Vlad doing? #PutinP...</td>\n      <td>Shitposting</td>\n      <td>L1 - Shitposting</td>\n    </tr>\n    <tr>\n      <th>79</th>\n      <td>@Official_NAFO @U24_gov_ua the Man-O-War Nafo ...</td>\n      <td>Meme creation</td>\n      <td>L1 - Meme creation</td>\n    </tr>\n  </tbody>\n</table>\n<p>1475 rows × 3 columns</p>\n</div>"
     },
     "execution_count": 203,
     "metadata": {},
     "output_type": "execute_result"
    }
   ],
   "source": [
    "output"
   ],
   "metadata": {
    "collapsed": false,
    "pycharm": {
     "name": "#%%\n"
    }
   }
  },
  {
   "cell_type": "code",
   "execution_count": 204,
   "outputs": [],
   "source": [
    "output['cleanish_labels'] = output.predicted_label.apply(lambda x: x.replace('\\n', ''))"
   ],
   "metadata": {
    "collapsed": false,
    "pycharm": {
     "name": "#%%\n"
    }
   }
  },
  {
   "cell_type": "code",
   "execution_count": 205,
   "outputs": [],
   "source": [
    "output['bad_label'] = output.cleanish_labels.apply(lambda x: False if x in allowed else True)"
   ],
   "metadata": {
    "collapsed": false,
    "pycharm": {
     "name": "#%%\n"
    }
   }
  },
  {
   "cell_type": "code",
   "execution_count": 206,
   "outputs": [
    {
     "data": {
      "text/plain": "False    0.999322\nTrue     0.000678\nName: bad_label, dtype: float64"
     },
     "execution_count": 206,
     "metadata": {},
     "output_type": "execute_result"
    }
   ],
   "source": [
    "output.bad_label.value_counts() / output.shape[0]"
   ],
   "metadata": {
    "collapsed": false,
    "pycharm": {
     "name": "#%%\n"
    }
   }
  },
  {
   "cell_type": "code",
   "execution_count": 207,
   "outputs": [],
   "source": [
    "output['na'] = output.cleanish_labels.apply(lambda x: True if x == 'Not applicable' else False)"
   ],
   "metadata": {
    "collapsed": false,
    "pycharm": {
     "name": "#%%\n"
    }
   }
  },
  {
   "cell_type": "code",
   "execution_count": 208,
   "outputs": [
    {
     "data": {
      "text/plain": "                                           tweet_text predicted_label  \\\n0   @Maks_NAFO_FELLA Russia is going to strike by ...     Shitposting   \n1   #Fellas #Nafo please Bonk this deluded troll. ...      Mobilising   \n2   NAFO fellas, engage here (call for Article 5) ...      Mobilising   \n3   choo choo motherf*ckers, here comes the #NAFO ...   Meme creation   \n4   @dosek_v 1. Ke idiocká věc být naštvani kvuli ...  Not applicable   \n..                                                ...             ...   \n75  @NLwartracker Someone please have a Nafo/god m...   Meme creation   \n76  @JoohnChoe NAFO here. Nayfo is a no-no. But It...  Community work   \n77  @Nafo_Sapper @JBWarsaw Better yet I have 3: \\n...  Community work   \n78  @leftstasi what your uncle Vlad doing? #PutinP...     Shitposting   \n79  @Official_NAFO @U24_gov_ua the Man-O-War Nafo ...   Meme creation   \n\n             true_label cleanish_labels  bad_label     na  \n0             L2 - Play     Shitposting      False  False  \n1       L1 - Mobilising      Mobilising      False  False  \n2       L1 - Mobilising      Mobilising      False  False  \n3             L2 - Play   Meme creation      False  False  \n4          L2 - Arguing  Not applicable      False   True  \n..                  ...             ...        ...    ...  \n75   L1 - Meme creation   Meme creation      False  False  \n76  L2 - Community work  Community work      False  False  \n77  L1 - Self-promotion  Community work      False  False  \n78     L1 - Shitposting     Shitposting      False  False  \n79   L1 - Meme creation   Meme creation      False  False  \n\n[1475 rows x 6 columns]",
      "text/html": "<div>\n<style scoped>\n    .dataframe tbody tr th:only-of-type {\n        vertical-align: middle;\n    }\n\n    .dataframe tbody tr th {\n        vertical-align: top;\n    }\n\n    .dataframe thead th {\n        text-align: right;\n    }\n</style>\n<table border=\"1\" class=\"dataframe\">\n  <thead>\n    <tr style=\"text-align: right;\">\n      <th></th>\n      <th>tweet_text</th>\n      <th>predicted_label</th>\n      <th>true_label</th>\n      <th>cleanish_labels</th>\n      <th>bad_label</th>\n      <th>na</th>\n    </tr>\n  </thead>\n  <tbody>\n    <tr>\n      <th>0</th>\n      <td>@Maks_NAFO_FELLA Russia is going to strike by ...</td>\n      <td>Shitposting</td>\n      <td>L2 - Play</td>\n      <td>Shitposting</td>\n      <td>False</td>\n      <td>False</td>\n    </tr>\n    <tr>\n      <th>1</th>\n      <td>#Fellas #Nafo please Bonk this deluded troll. ...</td>\n      <td>Mobilising</td>\n      <td>L1 - Mobilising</td>\n      <td>Mobilising</td>\n      <td>False</td>\n      <td>False</td>\n    </tr>\n    <tr>\n      <th>2</th>\n      <td>NAFO fellas, engage here (call for Article 5) ...</td>\n      <td>Mobilising</td>\n      <td>L1 - Mobilising</td>\n      <td>Mobilising</td>\n      <td>False</td>\n      <td>False</td>\n    </tr>\n    <tr>\n      <th>3</th>\n      <td>choo choo motherf*ckers, here comes the #NAFO ...</td>\n      <td>Meme creation</td>\n      <td>L2 - Play</td>\n      <td>Meme creation</td>\n      <td>False</td>\n      <td>False</td>\n    </tr>\n    <tr>\n      <th>4</th>\n      <td>@dosek_v 1. Ke idiocká věc být naštvani kvuli ...</td>\n      <td>Not applicable</td>\n      <td>L2 - Arguing</td>\n      <td>Not applicable</td>\n      <td>False</td>\n      <td>True</td>\n    </tr>\n    <tr>\n      <th>...</th>\n      <td>...</td>\n      <td>...</td>\n      <td>...</td>\n      <td>...</td>\n      <td>...</td>\n      <td>...</td>\n    </tr>\n    <tr>\n      <th>75</th>\n      <td>@NLwartracker Someone please have a Nafo/god m...</td>\n      <td>Meme creation</td>\n      <td>L1 - Meme creation</td>\n      <td>Meme creation</td>\n      <td>False</td>\n      <td>False</td>\n    </tr>\n    <tr>\n      <th>76</th>\n      <td>@JoohnChoe NAFO here. Nayfo is a no-no. But It...</td>\n      <td>Community work</td>\n      <td>L2 - Community work</td>\n      <td>Community work</td>\n      <td>False</td>\n      <td>False</td>\n    </tr>\n    <tr>\n      <th>77</th>\n      <td>@Nafo_Sapper @JBWarsaw Better yet I have 3: \\n...</td>\n      <td>Community work</td>\n      <td>L1 - Self-promotion</td>\n      <td>Community work</td>\n      <td>False</td>\n      <td>False</td>\n    </tr>\n    <tr>\n      <th>78</th>\n      <td>@leftstasi what your uncle Vlad doing? #PutinP...</td>\n      <td>Shitposting</td>\n      <td>L1 - Shitposting</td>\n      <td>Shitposting</td>\n      <td>False</td>\n      <td>False</td>\n    </tr>\n    <tr>\n      <th>79</th>\n      <td>@Official_NAFO @U24_gov_ua the Man-O-War Nafo ...</td>\n      <td>Meme creation</td>\n      <td>L1 - Meme creation</td>\n      <td>Meme creation</td>\n      <td>False</td>\n      <td>False</td>\n    </tr>\n  </tbody>\n</table>\n<p>1475 rows × 6 columns</p>\n</div>"
     },
     "execution_count": 208,
     "metadata": {},
     "output_type": "execute_result"
    }
   ],
   "source": [
    "output"
   ],
   "metadata": {
    "collapsed": false,
    "pycharm": {
     "name": "#%%\n"
    }
   }
  },
  {
   "cell_type": "code",
   "execution_count": 209,
   "outputs": [
    {
     "data": {
      "text/plain": "False    0.915254\nTrue     0.084746\nName: na, dtype: float64"
     },
     "execution_count": 209,
     "metadata": {},
     "output_type": "execute_result"
    }
   ],
   "source": [
    "output.na.value_counts() / output.shape[0]"
   ],
   "metadata": {
    "collapsed": false,
    "pycharm": {
     "name": "#%%\n"
    }
   }
  },
  {
   "cell_type": "code",
   "execution_count": 210,
   "outputs": [],
   "source": [
    "all_cats = pd.read_csv(f'{case_study}_dev.csv').label.to_list()\n",
    "all_cats_2 = pd.read_csv(f'{case_study2}_dev.csv').label.to_list()"
   ],
   "metadata": {
    "collapsed": false,
    "pycharm": {
     "name": "#%%\n"
    }
   }
  },
  {
   "cell_type": "code",
   "execution_count": 211,
   "outputs": [],
   "source": [
    "combined_cats = all_cats + allowed_cats_2"
   ],
   "metadata": {
    "collapsed": false,
    "pycharm": {
     "name": "#%%\n"
    }
   }
  },
  {
   "cell_type": "code",
   "execution_count": 212,
   "outputs": [
    {
     "data": {
      "text/plain": "798"
     },
     "execution_count": 212,
     "metadata": {},
     "output_type": "execute_result"
    }
   ],
   "source": [
    "len(combined_cats)"
   ],
   "metadata": {
    "collapsed": false,
    "pycharm": {
     "name": "#%%\n"
    }
   }
  },
  {
   "cell_type": "code",
   "execution_count": 217,
   "outputs": [],
   "source": [
    "na = [i for i in combined_cats if i.endswith('Not applicable')]"
   ],
   "metadata": {
    "collapsed": false,
    "pycharm": {
     "name": "#%%\n"
    }
   }
  },
  {
   "cell_type": "code",
   "execution_count": 218,
   "outputs": [
    {
     "data": {
      "text/plain": "['L3 - Not applicable',\n 'L3 - Not applicable',\n 'L3 - Not applicable',\n 'L3 - Not applicable',\n 'L3 - Not applicable',\n 'L3 - Not applicable',\n 'L3 - Not applicable',\n 'L3 - Not applicable',\n 'L3 - Not applicable',\n 'L3 - Not applicable',\n 'L3 - Not applicable',\n 'L3 - Not applicable',\n 'L3 - Not applicable',\n 'L3 - Not applicable',\n 'L3 - Not applicable',\n 'L3 - Not applicable',\n 'L3 - Not applicable',\n 'L3 - Not applicable',\n 'L3 - Not applicable',\n 'L3 - Not applicable',\n 'L3 - Not applicable',\n 'L3 - Not applicable',\n 'L3 - Not applicable',\n 'L3 - Not applicable',\n 'L3 - Not applicable',\n 'L3 - Not applicable',\n 'L3 - Not applicable',\n 'L3 - Not applicable',\n 'L3 - Not applicable',\n 'L3 - Not applicable',\n 'L3 - Not applicable',\n 'L3 - Not applicable',\n 'L3 - Not applicable',\n 'L3 - Not applicable',\n 'L3 - Not applicable',\n 'L3 - Not applicable',\n 'L3 - Not applicable',\n 'L3 - Not applicable',\n 'L3 - Not applicable',\n 'L3 - Not applicable',\n 'L3 - Not applicable',\n 'L3 - Not applicable',\n 'L3 - Not applicable',\n 'L3 - Not applicable',\n 'L3 - Not applicable',\n 'L3 - Not applicable',\n 'L3 - Not applicable',\n 'L3 - Not applicable',\n 'L3 - Not applicable',\n 'L3 - Not applicable',\n 'L3 - Not applicable',\n 'L3 - Not applicable',\n 'L3 - Not applicable',\n 'L3 - Not applicable',\n 'L3 - Not applicable',\n 'L3 - Not applicable',\n 'L3 - Not applicable',\n 'L3 - Not applicable',\n 'L3 - Not applicable',\n 'L3 - Not applicable',\n 'L3 - Not applicable',\n 'L3 - Not applicable',\n 'L3 - Not applicable',\n 'L3 - Not applicable',\n 'L3 - Not applicable',\n 'L3 - Not applicable',\n 'L3 - Not applicable',\n 'L3 - Not applicable',\n 'L3 - Not applicable',\n 'L3 - Not applicable',\n 'L3 - Not applicable',\n 'L3 - Not applicable',\n 'L3 - Not applicable',\n 'L3 - Not applicable',\n 'L3 - Not applicable',\n 'L3 - Not applicable',\n 'L3 - Not applicable',\n 'L3 - Not applicable',\n 'L3 - Not applicable',\n 'L3 - Not applicable',\n 'L3 - Not applicable',\n 'L3 - Not applicable',\n 'L3 - Not applicable',\n 'L3 - Not applicable',\n 'L3 - Not applicable',\n 'L3 - Not applicable',\n 'L3 - Not applicable',\n 'L3 - Not applicable',\n 'L3 - Not applicable',\n 'L3 - Not applicable',\n 'L3 - Not applicable',\n 'L3 - Not applicable',\n 'L3 - Not applicable',\n 'L3 - Not applicable',\n 'L3 - Not applicable',\n 'L3 - Not applicable',\n 'L3 - Not applicable',\n 'L3 - Not applicable',\n 'L3 - Not applicable',\n 'L3 - Not applicable',\n 'L3 - Not applicable',\n 'L3 - Not applicable',\n 'L3 - Not applicable',\n 'L3 - Not applicable',\n 'L3 - Not applicable',\n 'L3 - Not applicable',\n 'L3 - Not applicable',\n 'L3 - Not applicable',\n 'L3 - Not applicable',\n 'L3 - Not applicable',\n 'L3 - Not applicable',\n 'L3 - Not applicable',\n 'L3 - Not applicable',\n 'L3 - Not applicable',\n 'L3 - Not applicable',\n 'L3 - Not applicable',\n 'L3 - Not applicable',\n 'L3 - Not applicable',\n 'L3 - Not applicable',\n 'L3 - Not applicable',\n 'L3 - Not applicable',\n 'L3 - Not applicable',\n 'L3 - Not applicable',\n 'L3 - Not applicable',\n 'L3 - Not applicable',\n 'L3 - Not applicable',\n 'L3 - Not applicable',\n 'L3 - Not applicable',\n 'L3 - Not applicable',\n 'L3 - Not applicable',\n 'L3 - Not applicable',\n 'L3 - Not applicable',\n 'L3 - Not applicable',\n 'L3 - Not applicable',\n 'L3 - Not applicable',\n 'L3 - Not applicable',\n 'L3 - Not applicable',\n 'L3 - Not applicable',\n 'L3 - Not applicable',\n 'L3 - Not applicable',\n 'L3 - Not applicable',\n 'L3 - Not applicable',\n 'L3 - Not applicable',\n 'L3 - Not applicable',\n 'L3 - Not applicable',\n 'L3 - Not applicable',\n 'L3 - Not applicable',\n 'L3 - Not applicable',\n 'L3 - Not applicable',\n 'L3 - Not applicable',\n 'L3 - Not applicable',\n 'L3 - Not applicable',\n 'L3 - Not applicable',\n 'L3 - Not applicable',\n 'L3 - Not applicable',\n 'L3 - Not applicable',\n 'L3 - Not applicable',\n 'L3 - Not applicable',\n 'L3 - Not applicable',\n 'L3 - Not applicable',\n 'L3 - Not applicable',\n 'L3 - Not applicable',\n 'L3 - Not applicable',\n 'L3 - Not applicable',\n 'L3 - Not applicable',\n 'L3 - Not applicable',\n 'L3 - Not applicable',\n 'L3 - Not applicable',\n 'L3 - Not applicable',\n 'L3 - Not applicable',\n 'L3 - Not applicable',\n 'L3 - Not applicable',\n 'L3 - Not applicable',\n 'L3 - Not applicable',\n 'L3 - Not applicable',\n 'L3 - Not applicable',\n 'L3 - Not applicable',\n 'L3 - Not applicable',\n 'L3 - Not applicable',\n 'L3 - Not applicable',\n 'L3 - Not applicable',\n 'L3 - Not applicable',\n 'L3 - Not applicable',\n 'L3 - Not applicable',\n 'L3 - Not applicable',\n 'L3 - Not applicable',\n 'L3 - Not applicable',\n 'L3 - Not applicable',\n 'L3 - Not applicable',\n 'L3 - Not applicable',\n 'L3 - Not applicable',\n 'L3 - Not applicable',\n 'L3 - Not applicable',\n 'L3 - Not applicable',\n 'L3 - Not applicable',\n 'L3 - Not applicable',\n 'L3 - Not applicable',\n 'L3 - Not applicable',\n 'L3 - Not applicable',\n 'L3 - Not applicable',\n 'L3 - Not applicable',\n 'L3 - Not applicable',\n 'L3 - Not applicable',\n 'L3 - Not applicable',\n 'L3 - Not applicable',\n 'L3 - Not applicable',\n 'L3 - Not applicable',\n 'L3 - Not applicable',\n 'L3 - Not applicable',\n 'L3 - Not applicable',\n 'L3 - Not applicable',\n 'L3 - Not applicable',\n 'L3 - Not applicable',\n 'L3 - Not applicable',\n 'L3 - Not applicable',\n 'L3 - Not applicable',\n 'L3 - Not applicable',\n 'Not applicable']"
     },
     "execution_count": 218,
     "metadata": {},
     "output_type": "execute_result"
    }
   ],
   "source": [
    "na"
   ],
   "metadata": {
    "collapsed": false,
    "pycharm": {
     "name": "#%%\n"
    }
   }
  },
  {
   "cell_type": "code",
   "execution_count": 219,
   "outputs": [
    {
     "data": {
      "text/plain": "0.2731829573934837"
     },
     "execution_count": 219,
     "metadata": {},
     "output_type": "execute_result"
    }
   ],
   "source": [
    "len(na) / len(combined_cats)"
   ],
   "metadata": {
    "collapsed": false,
    "pycharm": {
     "name": "#%%\n"
    }
   }
  }
 ],
 "metadata": {
  "kernelspec": {
   "display_name": "Python 3",
   "language": "python",
   "name": "python3"
  },
  "language_info": {
   "codemirror_mode": {
    "name": "ipython",
    "version": 2
   },
   "file_extension": ".py",
   "mimetype": "text/x-python",
   "name": "python",
   "nbconvert_exporter": "python",
   "pygments_lexer": "ipython2",
   "version": "2.7.6"
  }
 },
 "nbformat": 4,
 "nbformat_minor": 0
}